{
 "cells": [
  {
   "cell_type": "code",
   "execution_count": 9,
   "id": "7d2a0b9b-8b7c-4e21-ac48-68069d7e311d",
   "metadata": {},
   "outputs": [],
   "source": [
    "import numpy as np\n",
    "import cv2\n",
    "\n",
    "# Ukuran bendera\n",
    "height = 200\n",
    "width = 350\n",
    "\n",
    "# Warna dalam format BGR\n",
    "black = (0, 0, 0)    # Hitam\n",
    "white = (255, 255, 255)  # Putih\n",
    "green = (0, 255, 0)   # Hijau\n",
    "red = (0, 0, 255)     # Merah\n",
    "\n",
    "# Membuat latar belakang putih\n",
    "flag = np.zeros((height, width, 3), dtype=np.uint8)\n",
    "\n",
    "# Menggambar tiga garis horizontal\n",
    "stripe_height = height // 3\n",
    "flag[:stripe_height, :] = black\n",
    "flag[stripe_height:stripe_height*2, :] = white\n",
    "flag[stripe_height*2:, :] = green\n",
    "\n",
    "# Menggambar segitiga merah di sisi kiri\n",
    "triangle = np.array([[0, 0], [0, height], [width // 3, height // 2]], np.int32)\n",
    "cv2.fillPoly(flag, [triangle], red)\n",
    "\n",
    "# Menampilkan bendera Palestina\n",
    "cv2.imshow(\"Bendera Palestina\", flag)\n",
    "cv2.waitKey(0)\n",
    "cv2.destroyAllWindows()\n"
   ]
  },
  {
   "cell_type": "code",
   "execution_count": null,
   "id": "f6a94eb3-fade-4d4e-b93c-2b55faf52881",
   "metadata": {},
   "outputs": [],
   "source": []
  }
 ],
 "metadata": {
  "kernelspec": {
   "display_name": "Python 3 (ipykernel)",
   "language": "python",
   "name": "python3"
  },
  "language_info": {
   "codemirror_mode": {
    "name": "ipython",
    "version": 3
   },
   "file_extension": ".py",
   "mimetype": "text/x-python",
   "name": "python",
   "nbconvert_exporter": "python",
   "pygments_lexer": "ipython3",
   "version": "3.10.11"
  }
 },
 "nbformat": 4,
 "nbformat_minor": 5
}
